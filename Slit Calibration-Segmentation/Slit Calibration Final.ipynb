{
 "cells": [
  {
   "cell_type": "code",
   "execution_count": 1,
   "metadata": {},
   "outputs": [],
   "source": [
    "import numpy as np\n",
    "import skimage.color\n",
    "import matplotlib.pyplot as plt\n",
    "import scipy.ndimage as nd\n",
    "import scipy.interpolate as inter\n",
    "from scipy import ndimage\n",
    "import cv2 \n",
    "from tqdm import tqdm_notebook\n",
    "from sklearn.cluster import MeanShift, estimate_bandwidth\n",
    "from ipywidgets import interact, interactive, fixed, interact_manual\n",
    "import ipywidgets as widgets\n",
    "import math"
   ]
  },
  {
   "cell_type": "code",
   "execution_count": 2,
   "metadata": {},
   "outputs": [
    {
     "name": "stdout",
     "output_type": "stream",
     "text": [
      "(2250, 4000, 3)\n"
     ]
    }
   ],
   "source": [
    "# Load Images\n",
    "short = plt.imread('shortslit.jpg')\n",
    "wide = plt.imread('wideslit.jpg')\n",
    "side = plt.imread('sideslit.jpg')\n",
    "print(short.shape)"
   ]
  },
  {
   "cell_type": "markdown",
   "metadata": {},
   "source": [
    "####  Steps\n",
    "1. Invert the image for increased contrast\n",
    "2. Create a binary mask with thresholding of 100. Currently based on trial and error\n",
    "3. Remove smaller detected noise and blobs with erosion and dilation with kernel = (20,20)\n",
    "    - Second option to remove noise: Find contours and detect the shape with the largest pixel density \n",
    "4. Measure length and width of binary mask\n",
    "\n",
    "#### Problems\n",
    "- Thresholding is not automated\n",
    "- Glare/soft illumination from slit be segmented too, which is not desired.\n",
    "- Segmentation of noise and reflections can be removed with erosion + dilation. However, the kernel operation on the image is currently fixed.\n"
   ]
  },
  {
   "cell_type": "code",
   "execution_count": 5,
   "metadata": {},
   "outputs": [],
   "source": [
    "image = wide\n",
    "process = 'Invert'"
   ]
  },
  {
   "cell_type": "code",
   "execution_count": 6,
   "metadata": {},
   "outputs": [
    {
     "data": {
      "application/vnd.jupyter.widget-view+json": {
       "model_id": "cd264839c941451f8c8d8fd467bb89bb",
       "version_major": 2,
       "version_minor": 0
      },
      "text/plain": [
       "interactive(children=(IntSlider(value=100, continuous_update=False, description='th', max=255), Output()), _do…"
      ]
     },
     "metadata": {},
     "output_type": "display_data"
    }
   ],
   "source": [
    "th = widgets.IntSlider(min=0, max=255, step=1, value=100,continuous_update=False)\n",
    "interact(test_threshold, image = fixed(image),th = th, method = fixed('Invert'));"
   ]
  },
  {
   "cell_type": "code",
   "execution_count": 7,
   "metadata": {
    "scrolled": false
   },
   "outputs": [
    {
     "data": {
      "application/vnd.jupyter.widget-view+json": {
       "model_id": "31836e55c68540f3bd0e875449f60112",
       "version_major": 2,
       "version_minor": 0
      },
      "text/plain": [
       "interactive(children=(IntSlider(value=100, continuous_update=False, description='th', max=255), Output()), _do…"
      ]
     },
     "metadata": {},
     "output_type": "display_data"
    },
    {
     "data": {
      "text/plain": [
       "<function __main__.slit_calibration(image, process, th)>"
      ]
     },
     "execution_count": 7,
     "metadata": {},
     "output_type": "execute_result"
    }
   ],
   "source": [
    "th = widgets.IntSlider(min=0, max=255, step=1, value=100,continuous_update=False)\n",
    "interact(slit_calibration, image = fixed(image), process = fixed(process), th = th)\n",
    "# slit_calibration(image,process,th)"
   ]
  },
  {
   "cell_type": "markdown",
   "metadata": {},
   "source": [
    "# Segmentation via Threhsolding ( Erosion+Dilation, Contour Isolation)"
   ]
  },
  {
   "cell_type": "markdown",
   "metadata": {},
   "source": [
    "##### Isolating noise by finding the largest contour"
   ]
  },
  {
   "cell_type": "code",
   "execution_count": 8,
   "metadata": {},
   "outputs": [
    {
     "data": {
      "application/vnd.jupyter.widget-view+json": {
       "model_id": "9610d48c31234f3c8c30f4580c07f7c5",
       "version_major": 2,
       "version_minor": 0
      },
      "text/plain": [
       "interactive(children=(IntSlider(value=100, continuous_update=False, description='th', max=255), Output()), _do…"
      ]
     },
     "metadata": {},
     "output_type": "display_data"
    },
    {
     "data": {
      "text/plain": [
       "<function __main__.slit_calibration_contour(image, process, th)>"
      ]
     },
     "execution_count": 8,
     "metadata": {},
     "output_type": "execute_result"
    }
   ],
   "source": [
    "th = widgets.IntSlider(min=0, max=255, step=1, value=100,continuous_update=False)\n",
    "interact(slit_calibration_contour, image = fixed(image), process = fixed(process), th = th)\n",
    "# slit_calibration_contour(wide,process,th)"
   ]
  },
  {
   "cell_type": "markdown",
   "metadata": {},
   "source": [
    "### Slit measured at 10mm ~ 790 pixels >>>> 1mm ~ 79 pixels"
   ]
  },
  {
   "cell_type": "markdown",
   "metadata": {},
   "source": [
    "# Functions"
   ]
  },
  {
   "cell_type": "code",
   "execution_count": 1,
   "metadata": {},
   "outputs": [],
   "source": [
    "def test_threshold(image, th, method):\n",
    "    # Simple Thresholding Segmentation\n",
    "    if process == 'Invert':\n",
    "        image = image.max() -image #invert the image for max contrast \n",
    "    image = image[:,:,0] # Find red channel\n",
    "    mask = image<th\n",
    "    plot_compare(image,mask)\n",
    "    return th\n",
    "\n",
    "\n",
    "def plot_compare(img1,img2):\n",
    "   # And now we show our results. \n",
    "    fig = plt.figure(figsize = (16,5))\n",
    "    ax1 = fig.add_subplot(121) \n",
    "    ax1.imshow(img1, interpolation='none',  cmap='gray') \n",
    "    ax1.set_title('Before') \n",
    "#     plt.colorbar()\n",
    "\n",
    "    ax2 = fig.add_subplot(122)\n",
    "    ax2.imshow(img2, interpolation='none',  cmap='gray') \n",
    "    ax2.set_title('After') \n",
    "#     plt.colorbar()\n",
    "    plt.show()\n",
    "\n",
    "\n",
    "def get_dimensions(img):\n",
    "    top = np.min(np.where(np.max(img,axis=1)==True))\n",
    "    bottom = np.max(np.where(np.max(img,axis=1)==True))\n",
    "    \n",
    "    left = np.min(np.where(np.max(img,axis=0)==True))\n",
    "    right = np.max(np.where(np.max(img,axis=0)==True))\n",
    "    \n",
    "    height = bottom - top\n",
    "    width = right - left\n",
    "#     print (height, 'pixels tall')\n",
    "#     print (width, 'pixels wide')\n",
    "    return height, width\n",
    "\n",
    "\n",
    "def preprocess(image, process):\n",
    "    image = image[:-70,:].copy() #crop the MicroRec label from image\n",
    "    if process == 'Invert':\n",
    "        image = image.max() -image #invert the image for max contrast \n",
    "#         image = skimage.color.rgb2gray(image) #isolate channel\n",
    "    if process == 'Grayscale':\n",
    "        image = skimage.color.rgb2gray(image) #grayscale image\n",
    "    \n",
    "    return image\n",
    "\n",
    "def threshold(image, th, method):\n",
    "    # Simple Thresholding Segmentation\n",
    "#     if method == 'Invert':\n",
    "    image = image[:,:,0] # Find red channel\n",
    "    mask = image<th\n",
    "    return mask\n",
    "\n",
    "def opening_morphology(img,kernel_down=(20,20),kernel_up = (10,10)):\n",
    "    erosion = ndimage.binary_erosion(img, structure=np.ones(kernel_down)).astype(img.dtype)\n",
    "    dilation = ndimage.binary_dilation(erosion, structure=np.ones(kernel_up)).astype(erosion.dtype)\n",
    "#     plot_compare(img,dilation)\n",
    "#     return dilation\n",
    "    return dilation\n",
    "\n",
    "def slit_calibration(image,process,th):\n",
    "    img = preprocess(image,process)\n",
    "#     plot_compare(image,img)\n",
    "    mask = threshold(img,th,process)\n",
    "#     plot_compare(img,mask)\n",
    "    post = opening_morphology(mask)\n",
    "#     plot_compare(mask,post)\n",
    "    height, width = get_dimensions(post)\n",
    "    print (height, 'pixels tall')\n",
    "    print (width, 'pixels wide')\n",
    "    plot_compare(image,post)\n",
    "#     plot_compare(image,post)"
   ]
  },
  {
   "cell_type": "code",
   "execution_count": 2,
   "metadata": {},
   "outputs": [],
   "source": [
    "def slit_calibration_contour(image,process,th): \n",
    "    img = preprocess(image,process)\n",
    "    mask = threshold(img,th,process)\n",
    "    sample = mask.copy()\n",
    "    contours, hierarchy = cv2.findContours(sample.astype(np.uint8), cv2.RETR_EXTERNAL, cv2.CHAIN_APPROX_NONE)\n",
    "    number_of_objects_in_image= len(contours)\n",
    "#     print (\"The number of objects in this image: \", str(number_of_objects_in_image))\n",
    "\n",
    "\n",
    "    display = image.copy()\n",
    "    pixel_densities = []\n",
    "    total = 0\n",
    "    # Iterate through each contour and append to pixel_densities, create display image where each contour is located\n",
    "    for c in contours:\n",
    "        x,y,w,h = cv2.boundingRect(c)\n",
    "        mask2 = np.zeros(display.shape, dtype=np.uint8)\n",
    "        cv2.fillPoly(mask2, [c], [255,255,255])\n",
    "        mask2 = cv2.cvtColor(mask2, cv2.COLOR_BGR2GRAY)\n",
    "        pixels = cv2.countNonZero(mask2)\n",
    "        total += pixels\n",
    "        pixel_densities.append(pixels)\n",
    "#         cv2.putText(display, '{}'.format(pixels), (x,y - 15), cv2.FONT_HERSHEY_SIMPLEX, 0.8, (255,255,255), 2)\n",
    "\n",
    "#     print(total, 'total segmented pixels.')\n",
    "\n",
    "    # Identify the maximum contour and its position\n",
    "    max_index = pixel_densities.index(max(pixel_densities))\n",
    "    print('maximum contour area at index',max_index, 'with pixel area of',max(pixel_densities))\n",
    "    mask2 = np.zeros(display.shape, dtype=np.uint8)\n",
    "    cv2.fillPoly(mask2, [contours[max_index]], [255,255,255])\n",
    "    mask2 = cv2.cvtColor(mask2, cv2.COLOR_BGR2GRAY) # Create a unique mask containing only this contour \n",
    "\n",
    "    # Define the bounding rectangle of the largest contour in the mask\n",
    "    x,y,w,h = cv2.boundingRect(contours[max_index])\n",
    "\n",
    "    #Calculate rotation of slit\n",
    "    rect = cv2.minAreaRect(contours[max_index])\n",
    "    print('Segmented slit is angled by: ',math.floor(rect[2]), 'degrees')\n",
    "#     box = cv2.boxPoints(rect)\n",
    "#     draw = image.copy()\n",
    "#     box = np.int0(box)\n",
    "#     bound = cv2.drawContours(draw,[box],0,(255,255,255),2)\n",
    "\n",
    "    # fig = plt.figure(figsize = (30,10))\n",
    "#     plt.imshow(mask2, cmap = 'gray')\n",
    "    \n",
    "    if w>h:\n",
    "        print('Horizontal Slit')\n",
    "        kernel = np.ones((10,10),np.uint8)\n",
    "    else:\n",
    "        print('Vertical Slit')\n",
    "        kernel = np.ones((10,10),np.uint8)\n",
    "\n",
    "    dilated_img = cv2.erode(mask2, kernel)\n",
    "    \n",
    "    height, width = get_dimensions(dilated_img/255)\n",
    "#     title = 'Vertical Slit: ' + str(height) + ' pixels tall, ' + str(width) +' pixels wide'\n",
    "#     plt.title(title)\n",
    "#     plt.imshow(dilated_img,cmap = 'gray')\n",
    "    \n",
    "    print(\n",
    "#         '\\n','x position:',x,'\\n',\n",
    "#           'y position:',y,'\\n',\n",
    "          'width w:',width,'\\n',\n",
    "          'height h:',height,'\\n')\n",
    "    \n",
    "    plot_compare(image,dilated_img)"
   ]
  },
  {
   "cell_type": "code",
   "execution_count": null,
   "metadata": {},
   "outputs": [],
   "source": []
  },
  {
   "cell_type": "code",
   "execution_count": null,
   "metadata": {},
   "outputs": [],
   "source": []
  }
 ],
 "metadata": {
  "kernelspec": {
   "display_name": "Python 3",
   "language": "python",
   "name": "python3"
  },
  "language_info": {
   "codemirror_mode": {
    "name": "ipython",
    "version": 3
   },
   "file_extension": ".py",
   "mimetype": "text/x-python",
   "name": "python",
   "nbconvert_exporter": "python",
   "pygments_lexer": "ipython3",
   "version": "3.8.3"
  }
 },
 "nbformat": 4,
 "nbformat_minor": 4
}
